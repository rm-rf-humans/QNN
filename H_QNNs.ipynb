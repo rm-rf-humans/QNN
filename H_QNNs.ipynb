{
  "nbformat": 4,
  "nbformat_minor": 0,
  "metadata": {
    "colab": {
      "provenance": [],
      "gpuType": "V28",
      "include_colab_link": true
    },
    "kernelspec": {
      "name": "python3",
      "display_name": "Python 3"
    },
    "language_info": {
      "name": "python"
    },
    "accelerator": "TPU"
  },
  "cells": [
    {
      "cell_type": "markdown",
      "metadata": {
        "id": "view-in-github",
        "colab_type": "text"
      },
      "source": [
        "<a href=\"https://colab.research.google.com/github/rm-rf-humans/QNN/blob/main/H_QNNs.ipynb\" target=\"_parent\"><img src=\"https://colab.research.google.com/assets/colab-badge.svg\" alt=\"Open In Colab\"/></a>"
      ]
    },
    {
      "cell_type": "code",
      "source": [
        "!pip install pennylane"
      ],
      "metadata": {
        "colab": {
          "base_uri": "https://localhost:8080/"
        },
        "id": "azjMfRfd4fQh",
        "outputId": "537fc6b8-e9c8-41e7-d2f2-64cc4c670236"
      },
      "execution_count": 1,
      "outputs": [
        {
          "output_type": "stream",
          "name": "stdout",
          "text": [
            "Collecting pennylane\n",
            "  Downloading PennyLane-0.39.0-py3-none-any.whl.metadata (9.2 kB)\n",
            "Requirement already satisfied: numpy<2.1 in /usr/local/lib/python3.10/dist-packages (from pennylane) (1.26.4)\n",
            "Requirement already satisfied: scipy in /usr/local/lib/python3.10/dist-packages (from pennylane) (1.13.1)\n",
            "Requirement already satisfied: networkx in /usr/local/lib/python3.10/dist-packages (from pennylane) (3.4.2)\n",
            "Collecting rustworkx>=0.14.0 (from pennylane)\n",
            "  Downloading rustworkx-0.15.1-cp38-abi3-manylinux_2_17_x86_64.manylinux2014_x86_64.whl.metadata (9.9 kB)\n",
            "Requirement already satisfied: autograd in /usr/local/lib/python3.10/dist-packages (from pennylane) (1.7.0)\n",
            "Requirement already satisfied: toml in /usr/local/lib/python3.10/dist-packages (from pennylane) (0.10.2)\n",
            "Collecting appdirs (from pennylane)\n",
            "  Downloading appdirs-1.4.4-py2.py3-none-any.whl.metadata (9.0 kB)\n",
            "Collecting autoray>=0.6.11 (from pennylane)\n",
            "  Downloading autoray-0.7.0-py3-none-any.whl.metadata (5.8 kB)\n",
            "Requirement already satisfied: cachetools in /usr/local/lib/python3.10/dist-packages (from pennylane) (5.5.0)\n",
            "Collecting pennylane-lightning>=0.39 (from pennylane)\n",
            "  Downloading PennyLane_Lightning-0.39.0-cp310-cp310-manylinux_2_28_x86_64.whl.metadata (26 kB)\n",
            "Requirement already satisfied: requests in /usr/local/lib/python3.10/dist-packages (from pennylane) (2.32.3)\n",
            "Requirement already satisfied: typing-extensions in /usr/local/lib/python3.10/dist-packages (from pennylane) (4.12.2)\n",
            "Requirement already satisfied: packaging in /usr/local/lib/python3.10/dist-packages (from pennylane) (24.2)\n",
            "Requirement already satisfied: charset-normalizer<4,>=2 in /usr/local/lib/python3.10/dist-packages (from requests->pennylane) (3.4.0)\n",
            "Requirement already satisfied: idna<4,>=2.5 in /usr/local/lib/python3.10/dist-packages (from requests->pennylane) (3.10)\n",
            "Requirement already satisfied: urllib3<3,>=1.21.1 in /usr/local/lib/python3.10/dist-packages (from requests->pennylane) (2.2.3)\n",
            "Requirement already satisfied: certifi>=2017.4.17 in /usr/local/lib/python3.10/dist-packages (from requests->pennylane) (2024.12.14)\n",
            "Downloading PennyLane-0.39.0-py3-none-any.whl (1.9 MB)\n",
            "\u001b[2K   \u001b[90m━━━━━━━━━━━━━━━━━━━━━━━━━━━━━━━━━━━━━━━━\u001b[0m \u001b[32m1.9/1.9 MB\u001b[0m \u001b[31m13.9 MB/s\u001b[0m eta \u001b[36m0:00:00\u001b[0m\n",
            "\u001b[?25hDownloading autoray-0.7.0-py3-none-any.whl (930 kB)\n",
            "\u001b[2K   \u001b[90m━━━━━━━━━━━━━━━━━━━━━━━━━━━━━━━━━━━━━━━━\u001b[0m \u001b[32m930.0/930.0 kB\u001b[0m \u001b[31m29.0 MB/s\u001b[0m eta \u001b[36m0:00:00\u001b[0m\n",
            "\u001b[?25hDownloading PennyLane_Lightning-0.39.0-cp310-cp310-manylinux_2_28_x86_64.whl (1.7 MB)\n",
            "\u001b[2K   \u001b[90m━━━━━━━━━━━━━━━━━━━━━━━━━━━━━━━━━━━━━━━━\u001b[0m \u001b[32m1.7/1.7 MB\u001b[0m \u001b[31m31.6 MB/s\u001b[0m eta \u001b[36m0:00:00\u001b[0m\n",
            "\u001b[?25hDownloading rustworkx-0.15.1-cp38-abi3-manylinux_2_17_x86_64.manylinux2014_x86_64.whl (2.0 MB)\n",
            "\u001b[2K   \u001b[90m━━━━━━━━━━━━━━━━━━━━━━━━━━━━━━━━━━━━━━━━\u001b[0m \u001b[32m2.0/2.0 MB\u001b[0m \u001b[31m26.1 MB/s\u001b[0m eta \u001b[36m0:00:00\u001b[0m\n",
            "\u001b[?25hDownloading appdirs-1.4.4-py2.py3-none-any.whl (9.6 kB)\n",
            "Installing collected packages: appdirs, rustworkx, autoray, pennylane-lightning, pennylane\n",
            "Successfully installed appdirs-1.4.4 autoray-0.7.0 pennylane-0.39.0 pennylane-lightning-0.39.0 rustworkx-0.15.1\n"
          ]
        }
      ]
    },
    {
      "cell_type": "code",
      "source": [
        "import torch\n",
        "import torch.nn as nn\n",
        "import torch.optim as optim\n",
        "import torch.nn.functional as F\n",
        "from torch.utils.data import DataLoader, Dataset, Subset\n",
        "from sklearn.model_selection import train_test_split\n",
        "from torchvision import transforms\n",
        "from pennylane import numpy as np\n",
        "import matplotlib.pyplot as plt\n",
        "import pennylane as qml\n",
        "from PIL import Image\n",
        "import pandas as pd\n",
        "import numpy as np\n",
        "import shutil\n",
        "import torch\n",
        "import os\n",
        "from IPython.display import display"
      ],
      "metadata": {
        "id": "hK0fPmvqCWIh"
      },
      "execution_count": 2,
      "outputs": []
    },
    {
      "cell_type": "code",
      "source": [
        "class BreastCancerDataset(Dataset):\n",
        "    def __init__(self, image_paths, transform=None):\n",
        "        self.image_paths = image_paths\n",
        "        self.transform = transform\n",
        "\n",
        "    def __len__(self):\n",
        "        return len(self.image_paths)\n",
        "\n",
        "    def __getitem__(self, idx):\n",
        "        img_path = self.image_paths[idx]\n",
        "        image = Image.open(img_path).convert(\"L\")\n",
        "        label = 0 if 'normal' in img_path else 1\n",
        "\n",
        "        if self.transform:\n",
        "            image = self.transform(image)\n",
        "\n",
        "        return image, label"
      ],
      "metadata": {
        "id": "pzf75IRJah26"
      },
      "execution_count": 3,
      "outputs": []
    },
    {
      "cell_type": "code",
      "source": [
        "normal_dir = \"normal\"\n",
        "abnormal_dir = \"abnormal\"\n",
        "output_dir = \"output/\"\n",
        "transform = transforms.Compose([transforms.ToTensor()])"
      ],
      "metadata": {
        "id": "guXwYb2naoMZ"
      },
      "execution_count": 4,
      "outputs": []
    },
    {
      "cell_type": "code",
      "source": [
        "def split_separate_folders(normal_dir, abnormal_dir, output_dir, train_ratio=0.7,\n",
        "                         val_ratio=0.15, test_ratio=0.15, random_state=42):\n",
        "\n",
        "    splits = ['train', 'val', 'test']\n",
        "    classes = ['normal', 'abnormal']\n",
        "\n",
        "    for split in splits:\n",
        "        for cls in classes:\n",
        "            os.makedirs(os.path.join(output_dir, split, cls), exist_ok=True)\n",
        "\n",
        "    results = {\n",
        "        'Class': [],\n",
        "        'Training': [],\n",
        "        'Validation': [],\n",
        "        'Testing': [],\n",
        "        'Total': []\n",
        "    }\n",
        "\n",
        "    for cls, src_dir in zip(classes, [normal_dir, abnormal_dir]):\n",
        "\n",
        "        images = [f for f in os.listdir(src_dir) if f.endswith(('.png', '.jpg', '.jpeg'))]\n",
        "        total_images = len(images)\n",
        "\n",
        "\n",
        "        train_images, temp_images = train_test_split(\n",
        "            images,\n",
        "            train_size=train_ratio,\n",
        "            random_state=random_state\n",
        "        )\n",
        "\n",
        "        val_ratio_adjusted = val_ratio / (val_ratio + test_ratio)\n",
        "        val_images, test_images = train_test_split(\n",
        "            temp_images,\n",
        "            train_size=val_ratio_adjusted,\n",
        "            random_state=random_state\n",
        "        )\n",
        "\n",
        "        for img, split_type in zip([train_images, val_images, test_images], splits):\n",
        "            for image_name in img:\n",
        "                shutil.copy2(\n",
        "                    os.path.join(src_dir, image_name),\n",
        "                    os.path.join(output_dir, split_type, cls, image_name)\n",
        "                )\n",
        "\n",
        "        results['Class'].append(cls)\n",
        "        results['Training'].append(len(train_images))\n",
        "        results['Validation'].append(len(val_images))\n",
        "        results['Testing'].append(len(test_images))\n",
        "        results['Total'].append(total_images)\n",
        "\n",
        "    summary_df = pd.DataFrame(results)\n",
        "    display(summary_df)\n",
        "\n",
        "    print(\"\\nSplit Percentages:\")\n",
        "    for split in ['Training', 'Validation', 'Testing']:\n",
        "        total = summary_df[split].sum()\n",
        "        overall_total = summary_df['Total'].sum()\n",
        "        print(f\"{split}: {total} images ({total/overall_total*100:.1f}%)\")\n",
        "\n",
        "    return summary_df"
      ],
      "metadata": {
        "id": "QNamCt6FdCod"
      },
      "execution_count": 5,
      "outputs": []
    },
    {
      "cell_type": "code",
      "source": [
        "summary = split_separate_folders(\n",
        "    normal_dir=normal_dir,\n",
        "    abnormal_dir=abnormal_dir,\n",
        "    output_dir=output_dir\n",
        ")"
      ],
      "metadata": {
        "colab": {
          "base_uri": "https://localhost:8080/",
          "height": 351
        },
        "id": "JFaQX-Gc29kq",
        "outputId": "dd472dec-867b-48b7-9ac0-c9241228058b"
      },
      "execution_count": 6,
      "outputs": [
        {
          "output_type": "error",
          "ename": "FileNotFoundError",
          "evalue": "[Errno 2] No such file or directory: 'normal'",
          "traceback": [
            "\u001b[0;31m---------------------------------------------------------------------------\u001b[0m",
            "\u001b[0;31mFileNotFoundError\u001b[0m                         Traceback (most recent call last)",
            "\u001b[0;32m<ipython-input-6-a49dde17dcf0>\u001b[0m in \u001b[0;36m<cell line: 1>\u001b[0;34m()\u001b[0m\n\u001b[0;32m----> 1\u001b[0;31m summary = split_separate_folders(\n\u001b[0m\u001b[1;32m      2\u001b[0m     \u001b[0mnormal_dir\u001b[0m\u001b[0;34m=\u001b[0m\u001b[0mnormal_dir\u001b[0m\u001b[0;34m,\u001b[0m\u001b[0;34m\u001b[0m\u001b[0;34m\u001b[0m\u001b[0m\n\u001b[1;32m      3\u001b[0m     \u001b[0mabnormal_dir\u001b[0m\u001b[0;34m=\u001b[0m\u001b[0mabnormal_dir\u001b[0m\u001b[0;34m,\u001b[0m\u001b[0;34m\u001b[0m\u001b[0;34m\u001b[0m\u001b[0m\n\u001b[1;32m      4\u001b[0m     \u001b[0moutput_dir\u001b[0m\u001b[0;34m=\u001b[0m\u001b[0moutput_dir\u001b[0m\u001b[0;34m\u001b[0m\u001b[0;34m\u001b[0m\u001b[0m\n\u001b[1;32m      5\u001b[0m )\n",
            "\u001b[0;32m<ipython-input-5-2eb62c8e3ce8>\u001b[0m in \u001b[0;36msplit_separate_folders\u001b[0;34m(normal_dir, abnormal_dir, output_dir, train_ratio, val_ratio, test_ratio, random_state)\u001b[0m\n\u001b[1;32m     19\u001b[0m     \u001b[0;32mfor\u001b[0m \u001b[0mcls\u001b[0m\u001b[0;34m,\u001b[0m \u001b[0msrc_dir\u001b[0m \u001b[0;32min\u001b[0m \u001b[0mzip\u001b[0m\u001b[0;34m(\u001b[0m\u001b[0mclasses\u001b[0m\u001b[0;34m,\u001b[0m \u001b[0;34m[\u001b[0m\u001b[0mnormal_dir\u001b[0m\u001b[0;34m,\u001b[0m \u001b[0mabnormal_dir\u001b[0m\u001b[0;34m]\u001b[0m\u001b[0;34m)\u001b[0m\u001b[0;34m:\u001b[0m\u001b[0;34m\u001b[0m\u001b[0;34m\u001b[0m\u001b[0m\n\u001b[1;32m     20\u001b[0m \u001b[0;34m\u001b[0m\u001b[0m\n\u001b[0;32m---> 21\u001b[0;31m         \u001b[0mimages\u001b[0m \u001b[0;34m=\u001b[0m \u001b[0;34m[\u001b[0m\u001b[0mf\u001b[0m \u001b[0;32mfor\u001b[0m \u001b[0mf\u001b[0m \u001b[0;32min\u001b[0m \u001b[0mos\u001b[0m\u001b[0;34m.\u001b[0m\u001b[0mlistdir\u001b[0m\u001b[0;34m(\u001b[0m\u001b[0msrc_dir\u001b[0m\u001b[0;34m)\u001b[0m \u001b[0;32mif\u001b[0m \u001b[0mf\u001b[0m\u001b[0;34m.\u001b[0m\u001b[0mendswith\u001b[0m\u001b[0;34m(\u001b[0m\u001b[0;34m(\u001b[0m\u001b[0;34m'.png'\u001b[0m\u001b[0;34m,\u001b[0m \u001b[0;34m'.jpg'\u001b[0m\u001b[0;34m,\u001b[0m \u001b[0;34m'.jpeg'\u001b[0m\u001b[0;34m)\u001b[0m\u001b[0;34m)\u001b[0m\u001b[0;34m]\u001b[0m\u001b[0;34m\u001b[0m\u001b[0;34m\u001b[0m\u001b[0m\n\u001b[0m\u001b[1;32m     22\u001b[0m         \u001b[0mtotal_images\u001b[0m \u001b[0;34m=\u001b[0m \u001b[0mlen\u001b[0m\u001b[0;34m(\u001b[0m\u001b[0mimages\u001b[0m\u001b[0;34m)\u001b[0m\u001b[0;34m\u001b[0m\u001b[0;34m\u001b[0m\u001b[0m\n\u001b[1;32m     23\u001b[0m \u001b[0;34m\u001b[0m\u001b[0m\n",
            "\u001b[0;31mFileNotFoundError\u001b[0m: [Errno 2] No such file or directory: 'normal'"
          ]
        }
      ]
    },
    {
      "cell_type": "code",
      "source": [
        "for split in ['train', 'val', 'test']:\n",
        "    for cls in ['normal', 'abnormal']:\n",
        "        path = os.path.join(output_dir, split, cls)\n",
        "        num_images = len([f for f in os.listdir(path) if f.endswith(('.png', '.jpg', '.jpeg'))])"
      ],
      "metadata": {
        "id": "2pAnLeQ32_iN"
      },
      "execution_count": null,
      "outputs": []
    },
    {
      "cell_type": "code",
      "source": [
        "class MedicalImageDataset(Dataset):\n",
        "\n",
        "    def __init__(self, data_dir, transform=None):\n",
        "\n",
        "        self.data_dir = data_dir\n",
        "        self.transform = transform\n",
        "        self.classes = ['normal', 'abnormal']\n",
        "        self.class_to_idx = {cls: idx for idx, cls in enumerate(self.classes)}\n",
        "\n",
        "        self.images = []\n",
        "        self.labels = []\n",
        "\n",
        "        for cls in self.classes:\n",
        "            class_dir = os.path.join(data_dir, cls)\n",
        "            class_idx = self.class_to_idx[cls]\n",
        "\n",
        "            for img_name in os.listdir(class_dir):\n",
        "                if img_name.endswith(('.png', '.jpg', '.jpeg')):\n",
        "                    self.images.append(os.path.join(class_dir, img_name))\n",
        "                    self.labels.append(class_idx)\n",
        "\n",
        "    def __len__(self):\n",
        "        return len(self.images)\n",
        "\n",
        "    def __getitem__(self, idx):\n",
        "        img_path = self.images[idx]\n",
        "        label = self.labels[idx]\n",
        "\n",
        "        image = Image.open(img_path).convert('L')\n",
        "\n",
        "        if self.transform:\n",
        "            image = self.transform(image)\n",
        "\n",
        "        return image, label"
      ],
      "metadata": {
        "id": "uHBqGzYJ3VoX"
      },
      "execution_count": null,
      "outputs": []
    },
    {
      "cell_type": "code",
      "source": [
        "torch.manual_seed(42)\n",
        "\n",
        "train_transform = transforms.Compose([\n",
        "    transforms.Resize((224, 224)),\n",
        "    transforms.RandomHorizontalFlip(),\n",
        "    transforms.RandomRotation(10),\n",
        "    transforms.ToTensor(),\n",
        "    transforms.Normalize(mean=[0.5], std=[0.5])\n",
        "])\n",
        "\n",
        "val_test_transform = transforms.Compose([\n",
        "    transforms.Resize((224, 224)),\n",
        "    transforms.ToTensor(),\n",
        "    transforms.Normalize(mean=[0.5], std=[0.5])\n",
        "])"
      ],
      "metadata": {
        "id": "BSQy1HXU3gBT"
      },
      "execution_count": null,
      "outputs": []
    },
    {
      "cell_type": "code",
      "source": [
        "def create_data_loaders(data_dir, batch_size=8, num_workers=4):\n",
        "\n",
        "    train_dataset = MedicalImageDataset(\n",
        "        os.path.join(data_dir, 'train'),\n",
        "        transform=train_transform\n",
        "    )\n",
        "\n",
        "    val_dataset = MedicalImageDataset(\n",
        "        os.path.join(data_dir, 'val'),\n",
        "        transform=val_test_transform\n",
        "    )\n",
        "\n",
        "    test_dataset = MedicalImageDataset(\n",
        "        os.path.join(data_dir, 'test'),\n",
        "        transform=val_test_transform\n",
        "    )\n",
        "\n",
        "    print(f\"Training set size: {len(train_dataset)}\")\n",
        "    print(f\"Validation set size: {len(val_dataset)}\")\n",
        "    print(f\"Test set size: {len(test_dataset)}\")\n",
        "\n",
        "    train_loader = DataLoader(\n",
        "        train_dataset,\n",
        "        batch_size=batch_size,\n",
        "        shuffle=True,\n",
        "        num_workers=num_workers,\n",
        "        pin_memory=True\n",
        "    )\n",
        "\n",
        "    val_loader = DataLoader(\n",
        "        val_dataset,\n",
        "        batch_size=batch_size,\n",
        "        shuffle=False,\n",
        "        num_workers=num_workers,\n",
        "        pin_memory=True\n",
        "    )\n",
        "\n",
        "    test_loader = DataLoader(\n",
        "        test_dataset,\n",
        "        batch_size=batch_size,\n",
        "        shuffle=False,\n",
        "        num_workers=num_workers,\n",
        "        pin_memory=True\n",
        "    )\n",
        "\n",
        "    return train_loader, val_loader, test_loader"
      ],
      "metadata": {
        "id": "ByHckTvi3kZT"
      },
      "execution_count": null,
      "outputs": []
    },
    {
      "cell_type": "code",
      "source": [
        "data_dir = \"output\"\n",
        "batch_size = 8\n",
        "\n",
        "train_loader, val_loader, test_loader = create_data_loaders(\n",
        "    data_dir=data_dir,\n",
        "    batch_size=batch_size\n",
        ")\n",
        "\n",
        "\n",
        "for images, labels in train_loader:\n",
        "    print(f\"Batch shape: {images.shape}\")\n",
        "    print(f\"Labels shape: {labels.shape}\")\n",
        "    print(f\"Labels: {labels}\")\n",
        "    break"
      ],
      "metadata": {
        "id": "3gnXqPCPfoFU"
      },
      "execution_count": null,
      "outputs": []
    },
    {
      "cell_type": "code",
      "source": [
        "class ComplexConv2d(nn.Module):\n",
        "    def __init__(self, in_channels, out_channels, kernel_size, stride=1, padding=0):\n",
        "        super(ComplexConv2d, self).__init__()\n",
        "        self.real = nn.Conv2d(in_channels, out_channels, kernel_size, stride, padding)\n",
        "        self.imag = nn.Conv2d(in_channels, out_channels, kernel_size, stride, padding)\n",
        "\n",
        "    def forward(self, x):\n",
        "        real, imag = x[:, 0], x[:, 1]\n",
        "        real_out = self.real(real) - self.imag(imag)\n",
        "        imag_out = self.real(imag) + self.imag(real)\n",
        "        return torch.stack([real_out, imag_out], dim=1)\n",
        "\n",
        "class ComplexLinear(nn.Module):\n",
        "    def __init__(self, in_features, out_features):\n",
        "        super(ComplexLinear, self).__init__()\n",
        "        self.real = nn.Linear(in_features, out_features)\n",
        "        self.imag = nn.Linear(in_features, out_features)\n",
        "\n",
        "    def forward(self, x):\n",
        "        real, imag = x[:, 0], x[:, 1]\n",
        "        real_out = self.real(real) - self.imag(imag)\n",
        "        imag_out = self.real(imag) + self.imag(real)\n",
        "        return torch.stack([real_out, imag_out], dim=1)\n",
        "\n",
        "class ComplexActivation(nn.Module):\n",
        "    def __init__(self, activation_func):\n",
        "        super(ComplexActivation, self).__init__()\n",
        "        self.activation_func = activation_func\n",
        "\n",
        "    def forward(self, x):\n",
        "        real, imag = x[:, 0], x[:, 1]\n",
        "        real_out = self.activation_func(real)\n",
        "        imag_out = self.activation_func(imag)\n",
        "        return torch.stack([real_out, imag_out], dim=1)\n",
        "\n",
        "class ComplexMagnitude(nn.Module):\n",
        "    def forward(self, x):\n",
        "        real, imag = x[:, 0], x[:, 1]\n",
        "        return torch.sqrt(real**2 + imag**2)"
      ],
      "metadata": {
        "id": "hNyNSP1XZPwt"
      },
      "execution_count": null,
      "outputs": []
    },
    {
      "cell_type": "code",
      "source": [
        "class ComplexModel(nn.Module):\n",
        "    def __init__(self):\n",
        "        super(ComplexModel, self).__init__()\n",
        "\n",
        "        self.conv1 = ComplexConv2d(1, 8, kernel_size=3, stride=1, padding=1)\n",
        "        self.conv2 = ComplexConv2d(8, 16, kernel_size=3, stride=1, padding=1)\n",
        "        self.pool = nn.MaxPool2d(2)\n",
        "        self.activation = ComplexActivation(nn.ReLU())\n",
        "\n",
        "        self.flattened_size = 16 * 56 * 56\n",
        "        self.fc1 = ComplexLinear(self.flattened_size, 10)\n",
        "        self.fc2 = nn.Linear(10, 2)\n",
        "        self.magnitude = ComplexMagnitude()\n",
        "\n",
        "    def forward(self, x):\n",
        "        x = torch.stack([x, torch.zeros_like(x)], dim=1)\n",
        "\n",
        "        x = self.conv1(x)\n",
        "        x = self.activation(x)\n",
        "        x = torch.stack([self.pool(x[:, 0]), self.pool(x[:, 1])], dim=1)\n",
        "        x = self.conv2(x)\n",
        "        x = self.activation(x)\n",
        "        x = torch.stack([self.pool(x[:, 0]), self.pool(x[:, 1])], dim=1)\n",
        "\n",
        "        x = x.view(x.size(0), 2, -1)\n",
        "        x = self.fc1(x)\n",
        "        x = self.magnitude(x)\n",
        "        x = self.fc2(x)\n",
        "        return F.log_softmax(x, dim=1)"
      ],
      "metadata": {
        "id": "k0vnQkdoZMpi"
      },
      "execution_count": null,
      "outputs": []
    },
    {
      "cell_type": "code",
      "source": [
        "device = torch.device('cuda' if torch.cuda.is_available() else 'cpu')\n",
        "model = ComplexModel().to(device)\n",
        "criterion = nn.NLLLoss()\n",
        "optimizer = optim.Adam(model.parameters(), lr=0.001)"
      ],
      "metadata": {
        "id": "OttJ5jIef4-I"
      },
      "execution_count": null,
      "outputs": []
    },
    {
      "cell_type": "code",
      "source": [
        "n_epochs = 30\n",
        "\n",
        "for epoch in range(n_epochs):\n",
        "    model.train()\n",
        "    train_loss = 0.0\n",
        "    correct = 0\n",
        "    total = 0\n",
        "\n",
        "    for batch_idx, (data, target) in enumerate(train_loader):\n",
        "        data, target = data.to(device), target.to(device)\n",
        "        optimizer.zero_grad()\n",
        "        output = model(data)\n",
        "        loss = criterion(output, target)\n",
        "        loss.backward()\n",
        "        optimizer.step()\n",
        "\n",
        "        train_loss += loss.item()\n",
        "\n",
        "        _, predicted = torch.max(output.data, 1)\n",
        "        total += target.size(0)\n",
        "        correct += (predicted == target).sum().item()\n",
        "\n",
        "        if batch_idx % 10 == 0:\n",
        "            print(f\"Epoch {epoch+1}/{n_epochs}, Batch {batch_idx}, Loss: {loss.item():.4f}\")\n",
        "\n",
        "    train_loss /= len(train_loader)\n",
        "    train_accuracy = correct / total\n",
        "    print(f\"Training Loss: {train_loss:.4f}, Training Accuracy: {train_accuracy:.4f}\")\n",
        "\n",
        "    model.eval()\n",
        "    val_loss = 0.0\n",
        "    correct = 0\n",
        "    total = 0\n",
        "\n",
        "    with torch.no_grad():\n",
        "        for val_data, val_target in val_loader:\n",
        "            val_data, val_target = val_data.to(device), val_target.to(device)\n",
        "            val_output = model(val_data)\n",
        "            val_loss += criterion(val_output, val_target).item()\n",
        "            _, predicted = torch.max(val_output.data, 1)\n",
        "            total += val_target.size(0)\n",
        "            correct += (predicted == val_target).sum().item()\n",
        "\n",
        "    val_loss /= len(val_loader)\n",
        "    val_accuracy = correct / total\n",
        "    print(f\"Validation Loss: {val_loss:.4f}, Validation Accuracy: {val_accuracy:.4f}\")\n",
        "\n",
        "print(\"Training complete.\")"
      ],
      "metadata": {
        "id": "YqmYQJgKSmPj"
      },
      "execution_count": null,
      "outputs": []
    },
    {
      "cell_type": "code",
      "source": [
        "model.eval()\n",
        "test_loss = 0.0\n",
        "test_correct = 0\n",
        "test_total = 0\n",
        "\n",
        "with torch.no_grad():\n",
        "    for test_data, test_target in test_loader:\n",
        "        test_data, test_target = test_data.to(device), test_target.to(device)\n",
        "        test_output = model(test_data)\n",
        "        test_loss += criterion(test_output, test_target).item()\n",
        "        _, test_predicted = torch.max(test_output.data, 1)\n",
        "        test_total += test_target.size(0)\n",
        "        test_correct += (test_predicted == test_target).sum().item()\n",
        "\n",
        "test_loss /= len(test_loader)\n",
        "test_accuracy = test_correct / test_total\n",
        "\n",
        "print(f\"Test Loss: {test_loss:.4f}, Test Accuracy: {test_accuracy:.4f}\")"
      ],
      "metadata": {
        "id": "vzn7rabpY_oP"
      },
      "execution_count": null,
      "outputs": []
    },
    {
      "source": [
        "val_dataset_new = MedicalImageDataset(\n",
        "    os.path.join(data_dir, 'val'),\n",
        "    transform=val_test_transform\n",
        ")\n",
        "test_single_image(model, val_dataset_new, test_index)"
      ],
      "cell_type": "code",
      "metadata": {
        "id": "XGiEHUyohXow"
      },
      "execution_count": null,
      "outputs": []
    },
    {
      "cell_type": "code",
      "source": [
        "n_qubits = 4\n",
        "dev = qml.device(\"default.qubit\", wires=n_qubits)\n",
        "\n",
        "def circuit(inputs, weights):\n",
        "    qml.templates.AngleEmbedding(inputs, wires=range(n_qubits))\n",
        "    qml.templates.StronglyEntanglingLayers(weights, wires=range(n_qubits))\n",
        "    return [qml.expval(qml.PauliZ(w)) for w in range(n_qubits)]"
      ],
      "metadata": {
        "id": "eT8N7hYg2AX5"
      },
      "execution_count": null,
      "outputs": []
    },
    {
      "cell_type": "code",
      "source": [
        "class QNNLayer(nn.Module):\n",
        "    def __init__(self, n_qubits, n_layers):\n",
        "        super(QNNLayer, self).__init__()\n",
        "        self.n_qubits = n_qubits\n",
        "        self.n_layers = n_layers\n",
        "        self.qnode = qml.QNode(circuit, dev, interface=\"torch\")\n",
        "\n",
        "        self.weights = nn.Parameter(torch.randn(n_layers, n_qubits, 3))\n",
        "\n",
        "    def forward(self, x):\n",
        "        q_out = [self.qnode(sample, self.weights) for sample in x]\n",
        "        q_out_tensor = torch.tensor(q_out, dtype=torch.float32, device=x.device)\n",
        "        return q_out_tensor\n"
      ],
      "metadata": {
        "id": "TDFyhfwi2EHm"
      },
      "execution_count": null,
      "outputs": []
    },
    {
      "cell_type": "code",
      "source": [
        "class QuantumTransferLearningModel(nn.Module):\n",
        "    def __init__(self):\n",
        "        super(QuantumTransferLearningModel, self).__init__()\n",
        "\n",
        "        self.feature_extractor = nn.Sequential(\n",
        "            nn.Conv2d(1, 32, kernel_size=3, stride=1, padding=1),\n",
        "            nn.ReLU(),\n",
        "            nn.MaxPool2d(kernel_size=2, stride=2),\n",
        "\n",
        "            nn.Conv2d(32, 64, kernel_size=3, stride=1, padding=1),\n",
        "            nn.ReLU(),\n",
        "            nn.MaxPool2d(kernel_size=2, stride=2),\n",
        "\n",
        "            nn.Conv2d(64, 128, kernel_size=3, stride=1, padding=1),\n",
        "            nn.ReLU(),\n",
        "            nn.MaxPool2d(kernel_size=2, stride=2),\n",
        "\n",
        "            nn.Conv2d(128, 256, kernel_size=3, stride=1, padding=1),\n",
        "            nn.ReLU(),\n",
        "            nn.MaxPool2d(kernel_size=2, stride=2)\n",
        "        )\n",
        "\n",
        "        self.fc1 = nn.Linear(256 * 14 * 14, n_qubits)\n",
        "\n",
        "        self.qnn = QNNLayer(n_qubits, 2)\n",
        "\n",
        "        self.fc2 = nn.Linear(n_qubits, 2)\n",
        "\n",
        "    def forward(self, x):\n",
        "        x = self.feature_extractor(x)\n",
        "        x = x.view(x.size(0), -1)\n",
        "        x = self.fc1(x)\n",
        "        x = self.qnn(x)\n",
        "        x = self.fc2(x)\n",
        "        return x"
      ],
      "metadata": {
        "id": "E77aBSv52HgK"
      },
      "execution_count": null,
      "outputs": []
    },
    {
      "cell_type": "code",
      "source": [
        "device = torch.device(\"cuda\" if torch.cuda.is_available() else \"cpu\")\n",
        "model = QuantumTransferLearningModel().to(device)\n",
        "criterion = nn.CrossEntropyLoss().to(device)\n",
        "optimizer = optim.Adam(model.parameters(), lr=0.001)"
      ],
      "metadata": {
        "id": "pA4O___f2RW8"
      },
      "execution_count": null,
      "outputs": []
    },
    {
      "cell_type": "code",
      "source": [
        "num_epochs = 30\n",
        "for epoch in range(num_epochs):\n",
        "    model.train()\n",
        "    running_loss = 0.0\n",
        "    correct = 0\n",
        "    total = 0\n",
        "\n",
        "    for inputs, labels in train_loader:\n",
        "        inputs, labels = inputs.to(device), labels.to(device)\n",
        "\n",
        "        optimizer.zero_grad()\n",
        "\n",
        "        outputs = model(inputs)\n",
        "\n",
        "        loss = criterion(outputs, labels)\n",
        "\n",
        "        loss.backward()\n",
        "        optimizer.step()\n",
        "\n",
        "        running_loss += loss.item()\n",
        "        _, predicted = torch.max(outputs.data, 1)\n",
        "        total += labels.size(0)\n",
        "        correct += (predicted == labels).sum().item()\n",
        "\n",
        "        train_loss = running_loss / len(train_loader)\n",
        "        train_accuracy = correct / total\n",
        "\n",
        "    model.eval()\n",
        "    val_running_loss = 0.0\n",
        "    val_correct = 0\n",
        "    val_total = 0\n",
        "\n",
        "    with torch.no_grad():\n",
        "        for val_inputs, val_labels in val_loader:\n",
        "            val_inputs, val_labels = val_inputs.to(device), val_labels.to(device)\n",
        "\n",
        "\n",
        "            val_outputs = model(val_inputs)\n",
        "\n",
        "            val_loss = criterion(val_outputs, val_labels)\n",
        "\n",
        "            val_running_loss += val_loss.item()\n",
        "            _, val_predicted = torch.max(val_outputs.data, 1)\n",
        "            val_total += val_labels.size(0)\n",
        "            val_correct += (val_predicted == val_labels).sum().item()\n",
        "\n",
        "    val_loss_avg = val_running_loss / len(val_loader)\n",
        "    val_accuracy = val_correct / val_total\n",
        "\n",
        "    print(f\"Epoch {epoch+1}/{num_epochs}, \"\n",
        "          f\"Train Loss: {train_loss:.4f}, Train Accuracy: {train_accuracy:.4f}, \"\n",
        "          f\"Val Loss: {val_loss_avg:.4f}, Val Accuracy: {val_accuracy:.4f}\")"
      ],
      "metadata": {
        "id": "pdLQEGO__Ddc"
      },
      "execution_count": null,
      "outputs": []
    },
    {
      "source": [
        "model.eval()\n",
        "    test_running_loss = 0.0\n",
        "    test_correct = 0\n",
        "    test_total = 0\n",
        "\n",
        "    with torch.no_grad():\n",
        "        for test_inputs, test_labels in test_loader:\n",
        "            test_inputs, test_labels = test_inputs.to(device), test_labels.to(device)\n",
        "\n",
        "            test_outputs = model(test_inputs)\n",
        "\n",
        "            test_loss = criterion(test_outputs, test_labels)\n",
        "\n",
        "            test_running_loss += test_loss.item()\n",
        "            _, test_predicted = torch.max(test_outputs.data, 1)\n",
        "            test_total += test_labels.size(0)\n",
        "            test_correct += (test_predicted == test_labels).sum().item()\n",
        "\n",
        "    test_loss_avg = test_running_loss / len(test_loader)\n",
        "    test_accuracy = test_correct / test_total\n",
        "\n",
        "    print(f\"Test Loss: {test_loss_avg:.4f}, Test Accuracy: {test_accuracy:.4f}\")"
      ],
      "cell_type": "code",
      "metadata": {
        "id": "Niu8f9g1_lHc"
      },
      "execution_count": null,
      "outputs": []
    }
  ]
}